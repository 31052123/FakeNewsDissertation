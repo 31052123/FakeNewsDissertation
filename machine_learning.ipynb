{
  "nbformat": 4,
  "nbformat_minor": 0,
  "metadata": {
    "colab": {
      "provenance": []
    },
    "kernelspec": {
      "name": "python3",
      "display_name": "Python 3"
    },
    "language_info": {
      "name": "python"
    }
  },
  "cells": [
    {
      "cell_type": "code",
      "execution_count": null,
      "metadata": {
        "id": "r_jpYwH31Clp",
        "colab": {
          "base_uri": "https://localhost:8080/",
          "height": 1000
        },
        "outputId": "89341b1e-81a3-4b3d-97f6-1c473f3f60fe"
      },
      "outputs": [
        {
          "output_type": "stream",
          "name": "stderr",
          "text": [
            "<ipython-input-1-23378bec6da5>:20: FutureWarning: The default value of regex will change from True to False in a future version.\n",
            "  fake_df.columns = ((fake_df.columns.str).replace(\"^ \",\"\")).str.replace(\" $\",\"\")\n",
            "<ipython-input-1-23378bec6da5>:20: FutureWarning: The default value of regex will change from True to False in a future version.\n",
            "  fake_df.columns = ((fake_df.columns.str).replace(\"^ \",\"\")).str.replace(\" $\",\"\")\n",
            "<ipython-input-1-23378bec6da5>:24: FutureWarning: The default value of regex will change from True to False in a future version.\n",
            "  real_df.columns = ((real_df.columns.str).replace(\"^ \",\"\")).str.replace(\" $\",\"\")\n",
            "<ipython-input-1-23378bec6da5>:24: FutureWarning: The default value of regex will change from True to False in a future version.\n",
            "  real_df.columns = ((real_df.columns.str).replace(\"^ \",\"\")).str.replace(\" $\",\"\")\n"
          ]
        },
        {
          "output_type": "stream",
          "name": "stdout",
          "text": [
            "<class 'pandas.core.frame.DataFrame'>\n",
            "RangeIndex: 23481 entries, 0 to 23480\n",
            "Data columns (total 4 columns):\n",
            " #   Column   Non-Null Count  Dtype \n",
            "---  ------   --------------  ----- \n",
            " 0   title    23481 non-null  object\n",
            " 1   text     23481 non-null  object\n",
            " 2   subject  23481 non-null  object\n",
            " 3   date     23481 non-null  object\n",
            "dtypes: object(4)\n",
            "memory usage: 733.9+ KB\n",
            "<class 'pandas.core.frame.DataFrame'>\n",
            "RangeIndex: 21417 entries, 0 to 21416\n",
            "Data columns (total 4 columns):\n",
            " #   Column   Non-Null Count  Dtype \n",
            "---  ------   --------------  ----- \n",
            " 0   title    21417 non-null  object\n",
            " 1   text     21417 non-null  object\n",
            " 2   subject  21417 non-null  object\n",
            " 3   date     21417 non-null  object\n",
            "dtypes: object(4)\n",
            "memory usage: 669.4+ KB\n",
            "<class 'pandas.core.frame.DataFrame'>\n",
            "Int64Index: 44898 entries, 0 to 21416\n",
            "Data columns (total 4 columns):\n",
            " #   Column   Non-Null Count  Dtype \n",
            "---  ------   --------------  ----- \n",
            " 0   title    44898 non-null  object\n",
            " 1   text     44898 non-null  object\n",
            " 2   subject  44898 non-null  object\n",
            " 3   isFake   44898 non-null  int64 \n",
            "dtypes: int64(1), object(3)\n",
            "memory usage: 1.7+ MB\n"
          ]
        },
        {
          "output_type": "execute_result",
          "data": {
            "text/plain": [
              "1    23481\n",
              "0    21417\n",
              "Name: isFake, dtype: int64"
            ]
          },
          "metadata": {},
          "execution_count": 1
        },
        {
          "output_type": "display_data",
          "data": {
            "text/plain": [
              "<Figure size 640x480 with 1 Axes>"
            ],
            "image/png": "[encoded data removed]"
          },
          "metadata": {}
        }
      ],
      "source": [
        "#loading the relevant libraries\n",
        "import pandas as pd\n",
        "import matplotlib.pyplot as plt\n",
        "import numpy as np\n",
        "import re\n",
        "from sklearn.metrics import accuracy_score\n",
        "from sklearn.model_selection import train_test_split\n",
        "from sklearn.metrics import accuracy_score, confusion_matrix, precision_score, recall_score\n",
        "import seaborn as sns\n",
        "plt.style.use('ggplot')\n",
        "\n",
        "# Since Jupyter notebook is used, include:\n",
        "%matplotlib inline\n",
        "\n",
        "# Load your dataset\n",
        "\n",
        "\n",
        "with open ('/content/drive/MyDrive/Fake.csv', \"r\") as file:\n",
        "        fake_df = pd.read_csv(file, delimiter = \",\")\n",
        "        fake_df.columns = ((fake_df.columns.str).replace(\"^ \",\"\")).str.replace(\" $\",\"\")\n",
        "\n",
        "with open ('/content/drive/MyDrive/True.csv', \"r\") as file:\n",
        "        real_df = pd.read_csv(file, delimiter = \",\")\n",
        "        real_df.columns = ((real_df.columns.str).replace(\"^ \",\"\")).str.replace(\" $\",\"\")\n",
        "\n",
        "\n",
        "# fake_df = pd.read_csv('/content/drive/MyDrive/Fake.csv')\n",
        "# real_df = pd.read_csv('/content/drive/MyDrive/True.csv')\n",
        "\n",
        "fake_df.info()      # Returns a concise summary of dataset\n",
        "real_df.info()      # Returns a concise summary of dataset\n",
        "\n",
        "fake_df.head()\n",
        "real_df.head()\n",
        "# Handle missing values\n",
        "fake_df.dropna(inplace=True)\n",
        "real_df.dropna(inplace=True)\n",
        "\n",
        "#confirm the size of null values if any\n",
        "fake_df.isnull().sum()\n",
        "real_df.isnull().sum()\n",
        "\n",
        "# Remove irrelevant features. They are removed because they will not contribute to model fitting\n",
        "fake_df.drop(['date'], axis=1, inplace=True)\n",
        "real_df.drop(['date'], axis=1, inplace=True)\n",
        "# fake_df.drop(['date', 'text', 'subject'], axis=1, inplace=True)\n",
        "# real_df.drop(['date', 'text', 'subject'], axis=1, inplace=True)\n",
        "\n",
        "#classification\n",
        "fake_df['isFake'] = 1 #1 means true (that implies the news is fake)\n",
        "real_df['isFake'] = 0  #0 means false (that implies the news is NOT fake)\n",
        "\n",
        "#uncomment to see categories in the plots (Class Visualization Using Bar Chart)\n",
        "# fake_df['isFake'] = 'Yes' #1 means true (that implies the news is fake)\n",
        "# real_df['isFake'] = 'No'  #0 means false (that implies the news is NOT fake)\n",
        "\n",
        "# Taking a look at the target variable\n",
        "real_df.isFake.value_counts()       # The value_counts() function is used to get a Series containing counts of unique values.\n",
        "\n",
        "#combine both fake_df and real_df into one for further cleaning\n",
        "\n",
        "data = pd.concat([fake_df,real_df])\n",
        "data.info()      # Returns a concise summary of dataset\n",
        "\n",
        "data.isnull().sum() / len(data) * 100   # To get percentage of missing data in each column. Notice, we don't have any column with missing value.\n",
        "\n",
        "#check data shape\n",
        "data.shape\n",
        "piechart=data['isFake'].value_counts()\n",
        "label=('Yes','No')\n",
        "plt.pie(piechart,labels=label,autopct='%1.1f%%')\n",
        "piechart"
      ]
    },
    {
      "cell_type": "code",
      "source": [
        "data.title.value_counts()\n",
        "data.text.value_counts()\n",
        "data.subject.value_counts()"
      ],
      "metadata": {
        "colab": {
          "base_uri": "https://localhost:8080/"
        },
        "id": "PViSZDPlCsoW",
        "outputId": "271fb4b5-229f-41b2-e5ce-2cdafc32eb12"
      },
      "execution_count": null,
      "outputs": [
        {
          "output_type": "execute_result",
          "data": {
            "text/plain": [
              "politicsNews       11272\n",
              "worldnews          10145\n",
              "News                9050\n",
              "politics            6841\n",
              "left-news           4459\n",
              "Government News     1570\n",
              "US_News              783\n",
              "Middle-east          778\n",
              "Name: subject, dtype: int64"
            ]
          },
          "metadata": {},
          "execution_count": 2
        }
      ]
    },
    {
      "cell_type": "code",
      "source": [
        "# Remove Stop Words\n",
        "#import libraries to help remove stop words\n",
        "import nltk\n",
        "import re\n",
        "import plotly.express as px\n",
        "from nltk.corpus import stopwords\n",
        "from nltk.stem import PorterStemmer\n",
        "\n",
        "def cleanTxt(text):\n",
        "    text = re.sub('\\w+:\\/\\/\\S+', '', text)# remove hyperlink\n",
        "    text = re.sub('[^a-zA-Z]', ' ', text)\n",
        "    text = re.sub(r'@\\w+|#\\w+', '', text) #remove @mentions\n",
        "    text.lower() #the model should detect both lower and upper case characters, therefore all text will be lower case\n",
        "    return text\n",
        "# data['title']=data['title'].apply(cleanTxt)\n",
        "data['text']=data['text'].apply(cleanTxt)\n",
        "\n",
        "nltk.download('stopwords')\n",
        "#stemming,remove stop words and numbers\n",
        "stopwords_english = stopwords.words('english')\n",
        "stemmer = PorterStemmer()\n",
        "\n",
        "def stemming(text):\n",
        "    text = text.split()\n",
        "    text=[stemmer.stem(y) for y in text]\n",
        "    return \" \" .join(text)\n",
        "\n",
        "def remove_numbers(text):\n",
        "    text=''.join([i for i in text if not i.isdigit()])\n",
        "    return text\n",
        "\n",
        "def remove_stop_words(text):\n",
        "\n",
        "    Text=[i for i in str(text).split() if i not in stopwords_english]\n",
        "    return \" \".join(Text)\n",
        "\n",
        "# def normalize_title(df):\n",
        "#     df.title=df.title.apply(lambda title : remove_stop_words(title))\n",
        "#     df.title=df.title.apply(lambda title : stemming(title))\n",
        "#     df.title=df.title.apply(lambda title : remove_numbers(title))\n",
        "#     return df\n",
        "\n",
        "def normalize_text(df):\n",
        "    df.text=df.text.apply(lambda text : remove_stop_words(text))\n",
        "    df.text=df.text.apply(lambda text : stemming(text))\n",
        "    df.text=df.text.apply(lambda text : remove_numbers(text))\n",
        "    return df\n",
        "\n",
        "# normalize_title(data)\n",
        "normalize_text(data)\n",
        "#text after preprocessing\n",
        "data.head(3)\n"
      ],
      "metadata": {
        "id": "n6ymM1z8Ho5h",
        "colab": {
          "base_uri": "https://localhost:8080/",
          "height": 196
        },
        "outputId": "f279f75f-5226-49b4-be07-3e4be2e2cb64"
      },
      "execution_count": null,
      "outputs": [
        {
          "output_type": "stream",
          "name": "stderr",
          "text": [
            "[nltk_data] Downloading package stopwords to /root/nltk_data...\n",
            "[nltk_data]   Unzipping corpora/stopwords.zip.\n"
          ]
        },
        {
          "output_type": "execute_result",
          "data": {
            "text/plain": [
              "                                               title  \\\n",
              "0   Donald Trump Sends Out Embarrassing New Year’...   \n",
              "1   Drunk Bragging Trump Staffer Started Russian ...   \n",
              "2   Sheriff David Clarke Becomes An Internet Joke...   \n",
              "\n",
              "                                                text subject  isFake  \n",
              "0  donald trump wish american happi new year leav...    News       1  \n",
              "1  hous intellig committe chairman devin nune go ...    News       1  \n",
              "2  on friday reveal former milwauke sheriff david...    News       1  "
            ],
            "text/html": [
              "\n",
              "  <div id=\"df-8b1ed936-244e-4419-88ca-726a6d659d2b\" class=\"colab-df-container\">\n",
              "    <div>\n",
              "<style scoped>\n",
              "    .dataframe tbody tr th:only-of-type {\n",
              "        vertical-align: middle;\n",
              "    }\n",
              "\n",
              "    .dataframe tbody tr th {\n",
              "        vertical-align: top;\n",
              "    }\n",
              "\n",
              "    .dataframe thead th {\n",
              "        text-align: right;\n",
              "    }\n",
              "</style>\n",
              "<table border=\"1\" class=\"dataframe\">\n",
              "  <thead>\n",
              "    <tr style=\"text-align: right;\">\n",
              "      <th></th>\n",
              "      <th>title</th>\n",
              "      <th>text</th>\n",
              "      <th>subject</th>\n",
              "      <th>isFake</th>\n",
              "    </tr>\n",
              "  </thead>\n",
              "  <tbody>\n",
              "    <tr>\n",
              "      <th>0</th>\n",
              "      <td>Donald Trump Sends Out Embarrassing New Year’...</td>\n",
              "      <td>donald trump wish american happi new year leav...</td>\n",
              "      <td>News</td>\n",
              "      <td>1</td>\n",
              "    </tr>\n",
              "    <tr>\n",
              "      <th>1</th>\n",
              "      <td>Drunk Bragging Trump Staffer Started Russian ...</td>\n",
              "      <td>hous intellig committe chairman devin nune go ...</td>\n",
              "      <td>News</td>\n",
              "      <td>1</td>\n",
              "    </tr>\n",
              "    <tr>\n",
              "      <th>2</th>\n",
              "      <td>Sheriff David Clarke Becomes An Internet Joke...</td>\n",
              "      <td>on friday reveal former milwauke sheriff david...</td>\n",
              "      <td>News</td>\n",
              "      <td>1</td>\n",
              "    </tr>\n",
              "  </tbody>\n",
              "</table>\n",
              "</div>\n",
              "    <div class=\"colab-df-buttons\">\n",
              "\n",
              "  <div class=\"colab-df-container\">\n",
              "    <button class=\"colab-df-convert\" onclick=\"convertToInteractive('df-8b1ed936-244e-4419-88ca-726a6d659d2b')\"\n",
              "            title=\"Convert this dataframe to an interactive table.\"\n",
              "            style=\"display:none;\">\n",
              "\n",
              "  <svg xmlns=\"http://www.w3.org/2000/svg\" height=\"24px\" viewBox=\"0 -960 960 960\">\n",
              "    <path d=\"M120-120v-720h720v720H120Zm60-500h600v-160H180v160Zm220 220h160v-160H400v160Zm0 220h160v-160H400v160ZM180-400h160v-160H180v160Zm440 0h160v-160H620v160ZM180-180h160v-160H180v160Zm440 0h160v-160H620v160Z\"/>\n",
              "  </svg>\n",
              "    </button>\n",
              "\n",
              "  <style>\n",
              "    .colab-df-container {\n",
              "      display:flex;\n",
              "      gap: 12px;\n",
              "    }\n",
              "\n",
              "    .colab-df-convert {\n",
              "      background-color: #E8F0FE;\n",
              "      border: none;\n",
              "      border-radius: 50%;\n",
              "      cursor: pointer;\n",
              "      display: none;\n",
              "      fill: #1967D2;\n",
              "      height: 32px;\n",
              "      padding: 0 0 0 0;\n",
              "      width: 32px;\n",
              "    }\n",
              "\n",
              "    .colab-df-convert:hover {\n",
              "      background-color: #E2EBFA;\n",
              "      box-shadow: 0px 1px 2px rgba(60, 64, 67, 0.3), 0px 1px 3px 1px rgba(60, 64, 67, 0.15);\n",
              "      fill: #174EA6;\n",
              "    }\n",
              "\n",
              "    .colab-df-buttons div {\n",
              "      margin-bottom: 4px;\n",
              "    }\n",
              "\n",
              "    [theme=dark] .colab-df-convert {\n",
              "      background-color: #3B4455;\n",
              "      fill: #D2E3FC;\n",
              "    }\n",
              "\n",
              "    [theme=dark] .colab-df-convert:hover {\n",
              "      background-color: #434B5C;\n",
              "      box-shadow: 0px 1px 3px 1px rgba(0, 0, 0, 0.15);\n",
              "      filter: drop-shadow(0px 1px 2px rgba(0, 0, 0, 0.3));\n",
              "      fill: #FFFFFF;\n",
              "    }\n",
              "  </style>\n",
              "\n",
              "    <script>\n",
              "      const buttonEl =\n",
              "        document.querySelector('#df-8b1ed936-244e-4419-88ca-726a6d659d2b button.colab-df-convert');\n",
              "      buttonEl.style.display =\n",
              "        google.colab.kernel.accessAllowed ? 'block' : 'none';\n",
              "\n",
              "      async function convertToInteractive(key) {\n",
              "        const element = document.querySelector('#df-8b1ed936-244e-4419-88ca-726a6d659d2b');\n",
              "        const dataTable =\n",
              "          await google.colab.kernel.invokeFunction('convertToInteractive',\n",
              "                                                    [key], {});\n",
              "        if (!dataTable) return;\n",
              "\n",
              "        const docLinkHtml = 'Like what you see? Visit the ' +\n",
              "          '<a target=\"_blank\" href=https://colab.research.google.com/notebooks/data_table.ipynb>data table notebook</a>'\n",
              "          + ' to learn more about interactive tables.';\n",
              "        element.innerHTML = '';\n",
              "        dataTable['output_type'] = 'display_data';\n",
              "        await google.colab.output.renderOutput(dataTable, element);\n",
              "        const docLink = document.createElement('div');\n",
              "        docLink.innerHTML = docLinkHtml;\n",
              "        element.appendChild(docLink);\n",
              "      }\n",
              "    </script>\n",
              "  </div>\n",
              "\n",
              "\n",
              "<div id=\"df-8cb4cc43-6eb7-4a75-8fc5-344c31571a9f\">\n",
              "  <button class=\"colab-df-quickchart\" onclick=\"quickchart('df-8cb4cc43-6eb7-4a75-8fc5-344c31571a9f')\"\n",
              "            title=\"Suggest charts\"\n",
              "            style=\"display:none;\">\n",
              "\n",
              "<svg xmlns=\"http://www.w3.org/2000/svg\" height=\"24px\"viewBox=\"0 0 24 24\"\n",
              "     width=\"24px\">\n",
              "    <g>\n",
              "        <path d=\"M19 3H5c-1.1 0-2 .9-2 2v14c0 1.1.9 2 2 2h14c1.1 0 2-.9 2-2V5c0-1.1-.9-2-2-2zM9 17H7v-7h2v7zm4 0h-2V7h2v10zm4 0h-2v-4h2v4z\"/>\n",
              "    </g>\n",
              "</svg>\n",
              "  </button>\n",
              "\n",
              "<style>\n",
              "  .colab-df-quickchart {\n",
              "      --bg-color: #E8F0FE;\n",
              "      --fill-color: #1967D2;\n",
              "      --hover-bg-color: #E2EBFA;\n",
              "      --hover-fill-color: #174EA6;\n",
              "      --disabled-fill-color: #AAA;\n",
              "      --disabled-bg-color: #DDD;\n",
              "  }\n",
              "\n",
              "  [theme=dark] .colab-df-quickchart {\n",
              "      --bg-color: #3B4455;\n",
              "      --fill-color: #D2E3FC;\n",
              "      --hover-bg-color: #434B5C;\n",
              "      --hover-fill-color: #FFFFFF;\n",
              "      --disabled-bg-color: #3B4455;\n",
              "      --disabled-fill-color: #666;\n",
              "  }\n",
              "\n",
              "  .colab-df-quickchart {\n",
              "    background-color: var(--bg-color);\n",
              "    border: none;\n",
              "    border-radius: 50%;\n",
              "    cursor: pointer;\n",
              "    display: none;\n",
              "    fill: var(--fill-color);\n",
              "    height: 32px;\n",
              "    padding: 0;\n",
              "    width: 32px;\n",
              "  }\n",
              "\n",
              "  .colab-df-quickchart:hover {\n",
              "    background-color: var(--hover-bg-color);\n",
              "    box-shadow: 0 1px 2px rgba(60, 64, 67, 0.3), 0 1px 3px 1px rgba(60, 64, 67, 0.15);\n",
              "    fill: var(--button-hover-fill-color);\n",
              "  }\n",
              "\n",
              "  .colab-df-quickchart-complete:disabled,\n",
              "  .colab-df-quickchart-complete:disabled:hover {\n",
              "    background-color: var(--disabled-bg-color);\n",
              "    fill: var(--disabled-fill-color);\n",
              "    box-shadow: none;\n",
              "  }\n",
              "\n",
              "  .colab-df-spinner {\n",
              "    border: 2px solid var(--fill-color);\n",
              "    border-color: transparent;\n",
              "    border-bottom-color: var(--fill-color);\n",
              "    animation:\n",
              "      spin 1s steps(1) infinite;\n",
              "  }\n",
              "\n",
              "  @keyframes spin {\n",
              "    0% {\n",
              "      border-color: transparent;\n",
              "      border-bottom-color: var(--fill-color);\n",
              "      border-left-color: var(--fill-color);\n",
              "    }\n",
              "    20% {\n",
              "      border-color: transparent;\n",
              "      border-left-color: var(--fill-color);\n",
              "      border-top-color: var(--fill-color);\n",
              "    }\n",
              "    30% {\n",
              "      border-color: transparent;\n",
              "      border-left-color: var(--fill-color);\n",
              "      border-top-color: var(--fill-color);\n",
              "      border-right-color: var(--fill-color);\n",
              "    }\n",
              "    40% {\n",
              "      border-color: transparent;\n",
              "      border-right-color: var(--fill-color);\n",
              "      border-top-color: var(--fill-color);\n",
              "    }\n",
              "    60% {\n",
              "      border-color: transparent;\n",
              "      border-right-color: var(--fill-color);\n",
              "    }\n",
              "    80% {\n",
              "      border-color: transparent;\n",
              "      border-right-color: var(--fill-color);\n",
              "      border-bottom-color: var(--fill-color);\n",
              "    }\n",
              "    90% {\n",
              "      border-color: transparent;\n",
              "      border-bottom-color: var(--fill-color);\n",
              "    }\n",
              "  }\n",
              "</style>\n",
              "\n",
              "  <script>\n",
              "    async function quickchart(key) {\n",
              "      const quickchartButtonEl =\n",
              "        document.querySelector('#' + key + ' button');\n",
              "      quickchartButtonEl.disabled = true;  // To prevent multiple clicks.\n",
              "      quickchartButtonEl.classList.add('colab-df-spinner');\n",
              "      try {\n",
              "        const charts = await google.colab.kernel.invokeFunction(\n",
              "            'suggestCharts', [key], {});\n",
              "      } catch (error) {\n",
              "        console.error('Error during call to suggestCharts:', error);\n",
              "      }\n",
              "      quickchartButtonEl.classList.remove('colab-df-spinner');\n",
              "      quickchartButtonEl.classList.add('colab-df-quickchart-complete');\n",
              "    }\n",
              "    (() => {\n",
              "      let quickchartButtonEl =\n",
              "        document.querySelector('#df-8cb4cc43-6eb7-4a75-8fc5-344c31571a9f button');\n",
              "      quickchartButtonEl.style.display =\n",
              "        google.colab.kernel.accessAllowed ? 'block' : 'none';\n",
              "    })();\n",
              "  </script>\n",
              "</div>\n",
              "\n",
              "    </div>\n",
              "  </div>\n"
            ]
          },
          "metadata": {},
          "execution_count": 3
        }
      ]
    },
    {
      "cell_type": "code",
      "source": [
        "import tensorflow as tf\n",
        "keras = tf.keras\n",
        "Tokenizer = keras.preprocessing.text.Tokenizer\n",
        "\n",
        "#Tokenization\n",
        "max_vocab = 10000\n",
        "tokenizer = Tokenizer(num_words=max_vocab)\n",
        "tokenizer.fit_on_texts(data)"
      ],
      "metadata": {
        "id": "EZx9mI8oMBcI"
      },
      "execution_count": null,
      "outputs": []
    },
    {
      "cell_type": "code",
      "source": [
        "# Process String into correct numerical formats (For Logistic Regression)\n",
        "\n",
        "def calculation(df,column):\n",
        "  column_contents = []\n",
        "  for row in df[column]:\n",
        "    if type(row) not in (int,float):\n",
        "      column_contents.append(row)\n",
        "\n",
        "  unique_contents = set(column_contents)\n",
        "  ds = {}\n",
        "  for i,j in enumerate(unique_contents):\n",
        "    ds[j] = i\n",
        "\n",
        "  df[column] = df[column].replace(ds.keys(), list(map(str, ds.values()))).astype(float)\n",
        "\n",
        "for column in data:\n",
        "  calculation(data,column)\n",
        "\n",
        "print (data.dtypes)"
      ],
      "metadata": {
        "colab": {
          "base_uri": "https://localhost:8080/"
        },
        "id": "exQV_bHccwqA",
        "outputId": "272f1b4b-a5bf-4105-c50d-53ab65ed0eae"
      },
      "execution_count": null,
      "outputs": [
        {
          "output_type": "stream",
          "name": "stdout",
          "text": [
            "title      float64\n",
            "text       float64\n",
            "subject    float64\n",
            "isFake     float64\n",
            "dtype: object\n"
          ]
        }
      ]
    },
    {
      "cell_type": "code",
      "source": [
        "data['title'].head()\n",
        "data['text'].head()\n",
        "data['subject'].head()"
      ],
      "metadata": {
        "colab": {
          "base_uri": "https://localhost:8080/"
        },
        "id": "vneTNYbJFsAI",
        "outputId": "8750a726-917e-4424-e0fa-449de23f736f"
      },
      "execution_count": null,
      "outputs": [
        {
          "output_type": "execute_result",
          "data": {
            "text/plain": [
              "0    3.0\n",
              "1    3.0\n",
              "2    3.0\n",
              "3    3.0\n",
              "4    3.0\n",
              "Name: subject, dtype: float64"
            ]
          },
          "metadata": {},
          "execution_count": 6
        }
      ]
    },
    {
      "cell_type": "code",
      "source": [
        "#Class Visualization Using Bar Chart\n",
        "# data['isFake'].value_counts().plot(kind='bar')\n",
        "data.groupby('isFake').size().plot(kind='bar')\n",
        "#data['isFake'].value_counts(sort=False).plot.bar(rot=0)"
      ],
      "metadata": {
        "colab": {
          "base_uri": "https://localhost:8080/",
          "height": 478
        },
        "id": "f-eCBzkappWH",
        "outputId": "5b14405f-70c1-4892-aeb2-8141fe516801"
      },
      "execution_count": null,
      "outputs": [
        {
          "output_type": "execute_result",
          "data": {
            "text/plain": [
              "<Axes: xlabel='isFake'>"
            ]
          },
          "metadata": {},
          "execution_count": 7
        },
        {
          "output_type": "display_data",
          "data": {
            "text/plain": [
              "<Figure size 640x480 with 1 Axes>"
            ],
            "image/png": "[encoded data removed]"
          },
          "metadata": {}
        }
      ]
    },
    {
      "cell_type": "code",
      "source": [],
      "metadata": {
        "id": "mImpPQ-aQ0Hq"
      },
      "execution_count": null,
      "outputs": []
    },
    {
      "cell_type": "code",
      "source": [
        "#Assessing all the categorical columns and numerical columns\n",
        "cat_cols = data.select_dtypes(include = 'object').columns    # getting all the categorical columns\n",
        "cat_cols\n",
        "num_cols = data.select_dtypes(include=np.number).columns      # getting all the numerical columns\n",
        "num_cols"
      ],
      "metadata": {
        "colab": {
          "base_uri": "https://localhost:8080/"
        },
        "id": "Z20TrxCS1m44",
        "outputId": "286139f1-56e1-4b4a-af60-34e0d2a1fe04"
      },
      "execution_count": null,
      "outputs": [
        {
          "output_type": "execute_result",
          "data": {
            "text/plain": [
              "Index(['title', 'text', 'subject', 'isFake'], dtype='object')"
            ]
          },
          "metadata": {},
          "execution_count": 8
        }
      ]
    },
    {
      "cell_type": "code",
      "source": [
        "# Separate input features and output feature\n",
        "X = data.drop(columns = ['isFake'])       # input features\n",
        "Y = data.isFake\n",
        "\n",
        "\n",
        "#To avoid data leakage,the train-test split technique will be employed.\n",
        "#The train-test split technique (also known as hold-out) involves dividing the available data into two parts: one dedicated to training and the other to evaluation.\n",
        "\n",
        "# Splitting the data\n",
        "X_train, X_test, Y_train, Y_test = train_test_split(X, Y, test_size = 0.3, random_state = 42)\n",
        "\n",
        "# X_train: independent feature data for training the model\n",
        "# Y_train: dependent feature data for training the model\n",
        "# X_test: independent feature data for testing the model; will be used to predict the target values\n",
        "# Y_test: original target values of X_test; We will compare this values with our predicted values.\n",
        "\n",
        "# test_size = 0.3: 30% of the data will go for test set and 70% of the data will go for train set\n",
        "# random_state = 42: this will fix the split i.e. there will be same split for each time you run the code\n",
        "\n"
      ],
      "metadata": {
        "id": "-7v8rtBx2P5V"
      },
      "execution_count": null,
      "outputs": []
    },
    {
      "cell_type": "code",
      "source": [
        "#Class Imbalance assessment\n",
        "data.isFake.value_counts()"
      ],
      "metadata": {
        "id": "PA61gqtRqKE3",
        "colab": {
          "base_uri": "https://localhost:8080/"
        },
        "outputId": "8ba4b7c4-f1d0-4399-99cb-89ab5f3480dc"
      },
      "execution_count": null,
      "outputs": [
        {
          "output_type": "execute_result",
          "data": {
            "text/plain": [
              "1.0    23481\n",
              "0.0    21417\n",
              "Name: isFake, dtype: int64"
            ]
          },
          "metadata": {},
          "execution_count": 10
        }
      ]
    },
    {
      "cell_type": "code",
      "source": [
        "#Handling Class Imbalancing Issue using Undersampling.\n",
        "#Undersampling can be defined as removing some observations of the majority class"
      ],
      "metadata": {
        "id": "YZVWjSBdq-g7"
      },
      "execution_count": null,
      "outputs": []
    },
    {
      "cell_type": "code",
      "source": [
        "# Handling Class Imbalancing Issue for *train* data using Undersampling.\n",
        "\n",
        "# concatenate training data back together\n",
        "train_data = pd.concat([X_train, Y_train], axis = 1)\n",
        "\n",
        "# separate minority and majority class\n",
        "not_fake = train_data[train_data.isFake==0]\n",
        "fake = train_data[train_data.isFake==1]\n",
        "\n",
        "# 'resample' is located under sklearn.utils\n",
        "from sklearn.utils import resample\n",
        "\n",
        "# Unsample minority; we are oversampling the minority class to match the number of majority class\n",
        "fake_balanced = resample(fake,\n",
        "                           replace = True, # Sample with replacement\n",
        "                           n_samples = len(not_fake), # Match number in majority class\n",
        "                           random_state=27)\n",
        "\n",
        "# combine majority and upsampled minority\n",
        "balanced_train_data = pd.concat([not_fake, fake_balanced])\n",
        "\n",
        "# Now, check the classes count for train data shows the classes are now equal\n",
        "balanced_train_data.isFake.value_counts()\n",
        "balanced_train_data.groupby('isFake').size().plot(kind='bar')"
      ],
      "metadata": {
        "colab": {
          "base_uri": "https://localhost:8080/",
          "height": 478
        },
        "id": "3c_SxgBxKm_I",
        "outputId": "e68ca4ae-93b8-47aa-ce76-7e42cdae4c25"
      },
      "execution_count": null,
      "outputs": [
        {
          "output_type": "execute_result",
          "data": {
            "text/plain": [
              "<Axes: xlabel='isFake'>"
            ]
          },
          "metadata": {},
          "execution_count": 12
        },
        {
          "output_type": "display_data",
          "data": {
            "text/plain": [
              "<Figure size 640x480 with 1 Axes>"
            ],
            "image/png": "[encoded data removed]"
          },
          "metadata": {}
        }
      ]
    },
    {
      "cell_type": "code",
      "source": [
        "# Handling Class Imbalancing Issue for *test* data using Undersampling.\n",
        "\n",
        "# concatenate testing data back together\n",
        "test_data = pd.concat([X_test, Y_test], axis = 1)\n",
        "\n",
        "# separate minority and majority class\n",
        "not_fake = test_data[test_data.isFake==0]\n",
        "fake = test_data[test_data.isFake==1]\n",
        "\n",
        "# 'resample' is located under sklearn.utils\n",
        "from sklearn.utils import resample\n",
        "\n",
        "# Unsample minority; we are oversampling the minority class to match the number of majority class\n",
        "fake_balanced = resample(fake,\n",
        "                           replace = True, # Sample with replacement\n",
        "                           n_samples = len(not_fake), # Match number in majority class\n",
        "                           random_state=27)\n",
        "\n",
        "# combine majority and upsampled minority\n",
        "balanced_test_data = pd.concat([not_fake, fake_balanced])\n",
        "\n",
        "# Now, check the classes count for test data shows the classes are now equal\n",
        "balanced_test_data.isFake.value_counts()\n",
        "balanced_test_data.groupby('isFake').size().plot(kind='bar')"
      ],
      "metadata": {
        "colab": {
          "base_uri": "https://localhost:8080/",
          "height": 478
        },
        "id": "AF72UWLELnqA",
        "outputId": "40405912-07e1-440b-a9dc-1404f9a173d0"
      },
      "execution_count": null,
      "outputs": [
        {
          "output_type": "execute_result",
          "data": {
            "text/plain": [
              "<Axes: xlabel='isFake'>"
            ]
          },
          "metadata": {},
          "execution_count": 13
        },
        {
          "output_type": "display_data",
          "data": {
            "text/plain": [
              "<Figure size 640x480 with 1 Axes>"
            ],
            "image/png": "[encoded data removed]"
          },
          "metadata": {}
        }
      ]
    },
    {
      "cell_type": "code",
      "source": [
        "#Proper resampling of the train data using k-fold cross validation\n",
        "#Split the train data into 10 smaller samples, i.e. k=10\n",
        "def kfold_indices(data, k):\n",
        "    fold_size = len(data) // k\n",
        "    indices = np.arange(len(data))\n",
        "    folds = []\n",
        "    for i in range(k):\n",
        "        test_indices = indices[i * fold_size: (i + 1) * fold_size]\n",
        "        train_indices = np.concatenate([indices[:i * fold_size], indices[(i + 1) * fold_size:]])\n",
        "        folds.append((train_indices, test_indices))\n",
        "    return folds\n",
        "\n",
        "# Define the number of folds (K)\n",
        "k = 10\n",
        "\n",
        "# Get the fold indices\n",
        "fold_indices = kfold_indices(balanced_train_data, k)\n",
        "fold_indices #10 smaller samples"
      ],
      "metadata": {
        "colab": {
          "base_uri": "https://localhost:8080/"
        },
        "id": "9FqaCr9zYsEG",
        "outputId": "3de10f3f-f987-4030-a8f4-cfca8781a5d5"
      },
      "execution_count": null,
      "outputs": [
        {
          "output_type": "execute_result",
          "data": {
            "text/plain": [
              "[(array([ 3007,  3008,  3009, ..., 30073, 30074, 30075]),\n",
              "  array([   0,    1,    2, ..., 3004, 3005, 3006])),\n",
              " (array([    0,     1,     2, ..., 30073, 30074, 30075]),\n",
              "  array([3007, 3008, 3009, ..., 6011, 6012, 6013])),\n",
              " (array([    0,     1,     2, ..., 30073, 30074, 30075]),\n",
              "  array([6014, 6015, 6016, ..., 9018, 9019, 9020])),\n",
              " (array([    0,     1,     2, ..., 30073, 30074, 30075]),\n",
              "  array([ 9021,  9022,  9023, ..., 12025, 12026, 12027])),\n",
              " (array([    0,     1,     2, ..., 30073, 30074, 30075]),\n",
              "  array([12028, 12029, 12030, ..., 15032, 15033, 15034])),\n",
              " (array([    0,     1,     2, ..., 30073, 30074, 30075]),\n",
              "  array([15035, 15036, 15037, ..., 18039, 18040, 18041])),\n",
              " (array([    0,     1,     2, ..., 30073, 30074, 30075]),\n",
              "  array([18042, 18043, 18044, ..., 21046, 21047, 21048])),\n",
              " (array([    0,     1,     2, ..., 30073, 30074, 30075]),\n",
              "  array([21049, 21050, 21051, ..., 24053, 24054, 24055])),\n",
              " (array([    0,     1,     2, ..., 30073, 30074, 30075]),\n",
              "  array([24056, 24057, 24058, ..., 27060, 27061, 27062])),\n",
              " (array([    0,     1,     2, ..., 30073, 30074, 30075]),\n",
              "  array([27063, 27064, 27065, ..., 30067, 30068, 30069]))]"
            ]
          },
          "metadata": {},
          "execution_count": 14
        }
      ]
    },
    {
      "cell_type": "code",
      "source": [
        "# Separate input features and output feature (for balanced train data)\n",
        "X_train = balanced_train_data.drop(columns = ['isFake'])       # input features\n",
        "Y_train = balanced_train_data.isFake\n",
        "\n",
        "\n",
        "# Separate input features and output feature (for balanced test data)\n",
        "X_test = balanced_test_data.drop(columns = ['isFake'])       # input features\n",
        "Y_test = balanced_test_data.isFake"
      ],
      "metadata": {
        "id": "cP-B22RJ-JaO"
      },
      "execution_count": null,
      "outputs": []
    },
    {
      "cell_type": "code",
      "source": [
        "X_train"
      ],
      "metadata": {
        "colab": {
          "base_uri": "https://localhost:8080/",
          "height": 424
        },
        "id": "GWrFHdiJ49g7",
        "outputId": "80922a70-a93f-4a47-9613-dbf083856fc4"
      },
      "execution_count": null,
      "outputs": [
        {
          "output_type": "execute_result",
          "data": {
            "text/plain": [
              "         title     text  subject\n",
              "18187   4316.0  11945.0      1.0\n",
              "3329   21701.0   6034.0      2.0\n",
              "7486    1450.0  16777.0      2.0\n",
              "2591   10722.0   8604.0      2.0\n",
              "17903  37622.0   8137.0      1.0\n",
              "...        ...      ...      ...\n",
              "6474    3758.0   2091.0      3.0\n",
              "7693   24631.0  31126.0      3.0\n",
              "906     9097.0   4688.0      3.0\n",
              "11618   8468.0  14518.0      7.0\n",
              "3902     112.0   4393.0      3.0\n",
              "\n",
              "[30076 rows x 3 columns]"
            ],
            "text/html": [
              "\n",
              "  <div id=\"df-22ce1415-6671-4aae-ba66-ab308a901aaa\" class=\"colab-df-container\">\n",
              "    <div>\n",
              "<style scoped>\n",
              "    .dataframe tbody tr th:only-of-type {\n",
              "        vertical-align: middle;\n",
              "    }\n",
              "\n",
              "    .dataframe tbody tr th {\n",
              "        vertical-align: top;\n",
              "    }\n",
              "\n",
              "    .dataframe thead th {\n",
              "        text-align: right;\n",
              "    }\n",
              "</style>\n",
              "<table border=\"1\" class=\"dataframe\">\n",
              "  <thead>\n",
              "    <tr style=\"text-align: right;\">\n",
              "      <th></th>\n",
              "      <th>title</th>\n",
              "      <th>text</th>\n",
              "      <th>subject</th>\n",
              "    </tr>\n",
              "  </thead>\n",
              "  <tbody>\n",
              "    <tr>\n",
              "      <th>18187</th>\n",
              "      <td>4316.0</td>\n",
              "      <td>11945.0</td>\n",
              "      <td>1.0</td>\n",
              "    </tr>\n",
              "    <tr>\n",
              "      <th>3329</th>\n",
              "      <td>21701.0</td>\n",
              "      <td>6034.0</td>\n",
              "      <td>2.0</td>\n",
              "    </tr>\n",
              "    <tr>\n",
              "      <th>7486</th>\n",
              "      <td>1450.0</td>\n",
              "      <td>16777.0</td>\n",
              "      <td>2.0</td>\n",
              "    </tr>\n",
              "    <tr>\n",
              "      <th>2591</th>\n",
              "      <td>10722.0</td>\n",
              "      <td>8604.0</td>\n",
              "      <td>2.0</td>\n",
              "    </tr>\n",
              "    <tr>\n",
              "      <th>17903</th>\n",
              "      <td>37622.0</td>\n",
              "      <td>8137.0</td>\n",
              "      <td>1.0</td>\n",
              "    </tr>\n",
              "    <tr>\n",
              "      <th>...</th>\n",
              "      <td>...</td>\n",
              "      <td>...</td>\n",
              "      <td>...</td>\n",
              "    </tr>\n",
              "    <tr>\n",
              "      <th>6474</th>\n",
              "      <td>3758.0</td>\n",
              "      <td>2091.0</td>\n",
              "      <td>3.0</td>\n",
              "    </tr>\n",
              "    <tr>\n",
              "      <th>7693</th>\n",
              "      <td>24631.0</td>\n",
              "      <td>31126.0</td>\n",
              "      <td>3.0</td>\n",
              "    </tr>\n",
              "    <tr>\n",
              "      <th>906</th>\n",
              "      <td>9097.0</td>\n",
              "      <td>4688.0</td>\n",
              "      <td>3.0</td>\n",
              "    </tr>\n",
              "    <tr>\n",
              "      <th>11618</th>\n",
              "      <td>8468.0</td>\n",
              "      <td>14518.0</td>\n",
              "      <td>7.0</td>\n",
              "    </tr>\n",
              "    <tr>\n",
              "      <th>3902</th>\n",
              "      <td>112.0</td>\n",
              "      <td>4393.0</td>\n",
              "      <td>3.0</td>\n",
              "    </tr>\n",
              "  </tbody>\n",
              "</table>\n",
              "<p>30076 rows × 3 columns</p>\n",
              "</div>\n",
              "    <div class=\"colab-df-buttons\">\n",
              "\n",
              "  <div class=\"colab-df-container\">\n",
              "    <button class=\"colab-df-convert\" onclick=\"convertToInteractive('df-22ce1415-6671-4aae-ba66-ab308a901aaa')\"\n",
              "            title=\"Convert this dataframe to an interactive table.\"\n",
              "            style=\"display:none;\">\n",
              "\n",
              "  <svg xmlns=\"http://www.w3.org/2000/svg\" height=\"24px\" viewBox=\"0 -960 960 960\">\n",
              "    <path d=\"M120-120v-720h720v720H120Zm60-500h600v-160H180v160Zm220 220h160v-160H400v160Zm0 220h160v-160H400v160ZM180-400h160v-160H180v160Zm440 0h160v-160H620v160ZM180-180h160v-160H180v160Zm440 0h160v-160H620v160Z\"/>\n",
              "  </svg>\n",
              "    </button>\n",
              "\n",
              "  <style>\n",
              "    .colab-df-container {\n",
              "      display:flex;\n",
              "      gap: 12px;\n",
              "    }\n",
              "\n",
              "    .colab-df-convert {\n",
              "      background-color: #E8F0FE;\n",
              "      border: none;\n",
              "      border-radius: 50%;\n",
              "      cursor: pointer;\n",
              "      display: none;\n",
              "      fill: #1967D2;\n",
              "      height: 32px;\n",
              "      padding: 0 0 0 0;\n",
              "      width: 32px;\n",
              "    }\n",
              "\n",
              "    .colab-df-convert:hover {\n",
              "      background-color: #E2EBFA;\n",
              "      box-shadow: 0px 1px 2px rgba(60, 64, 67, 0.3), 0px 1px 3px 1px rgba(60, 64, 67, 0.15);\n",
              "      fill: #174EA6;\n",
              "    }\n",
              "\n",
              "    .colab-df-buttons div {\n",
              "      margin-bottom: 4px;\n",
              "    }\n",
              "\n",
              "    [theme=dark] .colab-df-convert {\n",
              "      background-color: #3B4455;\n",
              "      fill: #D2E3FC;\n",
              "    }\n",
              "\n",
              "    [theme=dark] .colab-df-convert:hover {\n",
              "      background-color: #434B5C;\n",
              "      box-shadow: 0px 1px 3px 1px rgba(0, 0, 0, 0.15);\n",
              "      filter: drop-shadow(0px 1px 2px rgba(0, 0, 0, 0.3));\n",
              "      fill: #FFFFFF;\n",
              "    }\n",
              "  </style>\n",
              "\n",
              "    <script>\n",
              "      const buttonEl =\n",
              "        document.querySelector('#df-22ce1415-6671-4aae-ba66-ab308a901aaa button.colab-df-convert');\n",
              "      buttonEl.style.display =\n",
              "        google.colab.kernel.accessAllowed ? 'block' : 'none';\n",
              "\n",
              "      async function convertToInteractive(key) {\n",
              "        const element = document.querySelector('#df-22ce1415-6671-4aae-ba66-ab308a901aaa');\n",
              "        const dataTable =\n",
              "          await google.colab.kernel.invokeFunction('convertToInteractive',\n",
              "                                                    [key], {});\n",
              "        if (!dataTable) return;\n",
              "\n",
              "        const docLinkHtml = 'Like what you see? Visit the ' +\n",
              "          '<a target=\"_blank\" href=https://colab.research.google.com/notebooks/data_table.ipynb>data table notebook</a>'\n",
              "          + ' to learn more about interactive tables.';\n",
              "        element.innerHTML = '';\n",
              "        dataTable['output_type'] = 'display_data';\n",
              "        await google.colab.output.renderOutput(dataTable, element);\n",
              "        const docLink = document.createElement('div');\n",
              "        docLink.innerHTML = docLinkHtml;\n",
              "        element.appendChild(docLink);\n",
              "      }\n",
              "    </script>\n",
              "  </div>\n",
              "\n",
              "\n",
              "<div id=\"df-f218a02d-ec00-433e-80e5-9aa15fd4f9e8\">\n",
              "  <button class=\"colab-df-quickchart\" onclick=\"quickchart('df-f218a02d-ec00-433e-80e5-9aa15fd4f9e8')\"\n",
              "            title=\"Suggest charts\"\n",
              "            style=\"display:none;\">\n",
              "\n",
              "<svg xmlns=\"http://www.w3.org/2000/svg\" height=\"24px\"viewBox=\"0 0 24 24\"\n",
              "     width=\"24px\">\n",
              "    <g>\n",
              "        <path d=\"M19 3H5c-1.1 0-2 .9-2 2v14c0 1.1.9 2 2 2h14c1.1 0 2-.9 2-2V5c0-1.1-.9-2-2-2zM9 17H7v-7h2v7zm4 0h-2V7h2v10zm4 0h-2v-4h2v4z\"/>\n",
              "    </g>\n",
              "</svg>\n",
              "  </button>\n",
              "\n",
              "<style>\n",
              "  .colab-df-quickchart {\n",
              "      --bg-color: #E8F0FE;\n",
              "      --fill-color: #1967D2;\n",
              "      --hover-bg-color: #E2EBFA;\n",
              "      --hover-fill-color: #174EA6;\n",
              "      --disabled-fill-color: #AAA;\n",
              "      --disabled-bg-color: #DDD;\n",
              "  }\n",
              "\n",
              "  [theme=dark] .colab-df-quickchart {\n",
              "      --bg-color: #3B4455;\n",
              "      --fill-color: #D2E3FC;\n",
              "      --hover-bg-color: #434B5C;\n",
              "      --hover-fill-color: #FFFFFF;\n",
              "      --disabled-bg-color: #3B4455;\n",
              "      --disabled-fill-color: #666;\n",
              "  }\n",
              "\n",
              "  .colab-df-quickchart {\n",
              "    background-color: var(--bg-color);\n",
              "    border: none;\n",
              "    border-radius: 50%;\n",
              "    cursor: pointer;\n",
              "    display: none;\n",
              "    fill: var(--fill-color);\n",
              "    height: 32px;\n",
              "    padding: 0;\n",
              "    width: 32px;\n",
              "  }\n",
              "\n",
              "  .colab-df-quickchart:hover {\n",
              "    background-color: var(--hover-bg-color);\n",
              "    box-shadow: 0 1px 2px rgba(60, 64, 67, 0.3), 0 1px 3px 1px rgba(60, 64, 67, 0.15);\n",
              "    fill: var(--button-hover-fill-color);\n",
              "  }\n",
              "\n",
              "  .colab-df-quickchart-complete:disabled,\n",
              "  .colab-df-quickchart-complete:disabled:hover {\n",
              "    background-color: var(--disabled-bg-color);\n",
              "    fill: var(--disabled-fill-color);\n",
              "    box-shadow: none;\n",
              "  }\n",
              "\n",
              "  .colab-df-spinner {\n",
              "    border: 2px solid var(--fill-color);\n",
              "    border-color: transparent;\n",
              "    border-bottom-color: var(--fill-color);\n",
              "    animation:\n",
              "      spin 1s steps(1) infinite;\n",
              "  }\n",
              "\n",
              "  @keyframes spin {\n",
              "    0% {\n",
              "      border-color: transparent;\n",
              "      border-bottom-color: var(--fill-color);\n",
              "      border-left-color: var(--fill-color);\n",
              "    }\n",
              "    20% {\n",
              "      border-color: transparent;\n",
              "      border-left-color: var(--fill-color);\n",
              "      border-top-color: var(--fill-color);\n",
              "    }\n",
              "    30% {\n",
              "      border-color: transparent;\n",
              "      border-left-color: var(--fill-color);\n",
              "      border-top-color: var(--fill-color);\n",
              "      border-right-color: var(--fill-color);\n",
              "    }\n",
              "    40% {\n",
              "      border-color: transparent;\n",
              "      border-right-color: var(--fill-color);\n",
              "      border-top-color: var(--fill-color);\n",
              "    }\n",
              "    60% {\n",
              "      border-color: transparent;\n",
              "      border-right-color: var(--fill-color);\n",
              "    }\n",
              "    80% {\n",
              "      border-color: transparent;\n",
              "      border-right-color: var(--fill-color);\n",
              "      border-bottom-color: var(--fill-color);\n",
              "    }\n",
              "    90% {\n",
              "      border-color: transparent;\n",
              "      border-bottom-color: var(--fill-color);\n",
              "    }\n",
              "  }\n",
              "</style>\n",
              "\n",
              "  <script>\n",
              "    async function quickchart(key) {\n",
              "      const quickchartButtonEl =\n",
              "        document.querySelector('#' + key + ' button');\n",
              "      quickchartButtonEl.disabled = true;  // To prevent multiple clicks.\n",
              "      quickchartButtonEl.classList.add('colab-df-spinner');\n",
              "      try {\n",
              "        const charts = await google.colab.kernel.invokeFunction(\n",
              "            'suggestCharts', [key], {});\n",
              "      } catch (error) {\n",
              "        console.error('Error during call to suggestCharts:', error);\n",
              "      }\n",
              "      quickchartButtonEl.classList.remove('colab-df-spinner');\n",
              "      quickchartButtonEl.classList.add('colab-df-quickchart-complete');\n",
              "    }\n",
              "    (() => {\n",
              "      let quickchartButtonEl =\n",
              "        document.querySelector('#df-f218a02d-ec00-433e-80e5-9aa15fd4f9e8 button');\n",
              "      quickchartButtonEl.style.display =\n",
              "        google.colab.kernel.accessAllowed ? 'block' : 'none';\n",
              "    })();\n",
              "  </script>\n",
              "</div>\n",
              "\n",
              "  <div id=\"id_064dfd35-055a-4007-867e-d7e459cf18eb\">\n",
              "    <style>\n",
              "      .colab-df-generate {\n",
              "        background-color: #E8F0FE;\n",
              "        border: none;\n",
              "        border-radius: 50%;\n",
              "        cursor: pointer;\n",
              "        display: none;\n",
              "        fill: #1967D2;\n",
              "        height: 32px;\n",
              "        padding: 0 0 0 0;\n",
              "        width: 32px;\n",
              "      }\n",
              "\n",
              "      .colab-df-generate:hover {\n",
              "        background-color: #E2EBFA;\n",
              "        box-shadow: 0px 1px 2px rgba(60, 64, 67, 0.3), 0px 1px 3px 1px rgba(60, 64, 67, 0.15);\n",
              "        fill: #174EA6;\n",
              "      }\n",
              "\n",
              "      [theme=dark] .colab-df-generate {\n",
              "        background-color: #3B4455;\n",
              "        fill: #D2E3FC;\n",
              "      }\n",
              "\n",
              "      [theme=dark] .colab-df-generate:hover {\n",
              "        background-color: #434B5C;\n",
              "        box-shadow: 0px 1px 3px 1px rgba(0, 0, 0, 0.15);\n",
              "        filter: drop-shadow(0px 1px 2px rgba(0, 0, 0, 0.3));\n",
              "        fill: #FFFFFF;\n",
              "      }\n",
              "    </style>\n",
              "    <button class=\"colab-df-generate\" onclick=\"generateWithVariable('X_train')\"\n",
              "            title=\"Generate code using this dataframe.\"\n",
              "            style=\"display:none;\">\n",
              "\n",
              "  <svg xmlns=\"http://www.w3.org/2000/svg\" height=\"24px\"viewBox=\"0 0 24 24\"\n",
              "       width=\"24px\">\n",
              "    <path d=\"M7,19H8.4L18.45,9,17,7.55,7,17.6ZM5,21V16.75L18.45,3.32a2,2,0,0,1,2.83,0l1.4,1.43a1.91,1.91,0,0,1,.58,1.4,1.91,1.91,0,0,1-.58,1.4L9.25,21ZM18.45,9,17,7.55Zm-12,3A5.31,5.31,0,0,0,4.9,8.1,5.31,5.31,0,0,0,1,6.5,5.31,5.31,0,0,0,4.9,4.9,5.31,5.31,0,0,0,6.5,1,5.31,5.31,0,0,0,8.1,4.9,5.31,5.31,0,0,0,12,6.5,5.46,5.46,0,0,0,6.5,12Z\"/>\n",
              "  </svg>\n",
              "    </button>\n",
              "    <script>\n",
              "      (() => {\n",
              "      const buttonEl =\n",
              "        document.querySelector('#id_064dfd35-055a-4007-867e-d7e459cf18eb button.colab-df-generate');\n",
              "      buttonEl.style.display =\n",
              "        google.colab.kernel.accessAllowed ? 'block' : 'none';\n",
              "\n",
              "      buttonEl.onclick = () => {\n",
              "        google.colab.notebook.generateWithVariable('X_train');\n",
              "      }\n",
              "      })();\n",
              "    </script>\n",
              "  </div>\n",
              "\n",
              "    </div>\n",
              "  </div>\n"
            ]
          },
          "metadata": {},
          "execution_count": 16
        }
      ]
    },
    {
      "cell_type": "code",
      "source": [
        "print(X_train.columns.tolist())"
      ],
      "metadata": {
        "colab": {
          "base_uri": "https://localhost:8080/"
        },
        "id": "hlzwrITK8U4-",
        "outputId": "03753206-9ad3-43b0-bfa4-c928b35e9f34"
      },
      "execution_count": null,
      "outputs": [
        {
          "output_type": "stream",
          "name": "stdout",
          "text": [
            "['title', 'text', 'subject']\n"
          ]
        }
      ]
    },
    {
      "cell_type": "code",
      "source": [
        "\n",
        "#import relevant libraries\n",
        "from sklearn.metrics import accuracy_score\n",
        "from sklearn.linear_model import LogisticRegression  # Replace with each model that works with numeric data\n",
        "import tensorflow as tf\n",
        "from tensorflow.keras import layers\n",
        "from sklearn.metrics import accuracy_score , ConfusionMatrixDisplay , classification_report , roc_curve\n",
        "from sklearn.metrics import roc_auc_score\n",
        "\n",
        "#specify functions to train data and report/plot accuracies\n",
        "from keras import backend as K\n",
        "def f1(y_true, y_pred):\n",
        "    '''\n",
        "    metric from here\n",
        "    https://stackoverflow.com/questions/43547402/how-to-calculate-f1-macro-in-keras\n",
        "    '''\n",
        "    def recall(y_true, y_pred):\n",
        "        \"\"\"Recall metric.\n",
        "\n",
        "        Only computes a batch-wise average of recall.\n",
        "\n",
        "        Computes the recall, a metric for multi-label classification of\n",
        "        how many relevant items are selected.\n",
        "        \"\"\"\n",
        "        true_positives = K.sum(K.round(K.clip(y_true * y_pred, 0, 1)))\n",
        "        possible_positives = K.sum(K.round(K.clip(y_true, 0, 1)))\n",
        "        recall = true_positives / (possible_positives + K.epsilon())\n",
        "        return recall\n",
        "\n",
        "    def precision(y_true, y_pred):\n",
        "        \"\"\"Precision metric.\n",
        "\n",
        "        Only computes a batch-wise average of precision.\n",
        "\n",
        "        Computes the precision, a metric for multi-label classification of\n",
        "        how many selected items are relevant.\n",
        "        \"\"\"\n",
        "        true_positives = K.sum(K.round(K.clip(y_true * y_pred, 0, 1)))\n",
        "        predicted_positives = K.sum(K.round(K.clip(y_pred, 0, 1)))\n",
        "        precision = true_positives / (predicted_positives + K.epsilon())\n",
        "        return precision\n",
        "    precision = precision(y_true, y_pred)\n",
        "    recall = recall(y_true, y_pred)\n",
        "    print(\"precision: \",precision)\n",
        "    print(\"recall: \",recall)\n",
        "    return 2*((precision*recall)/(precision+recall+K.epsilon()))\n",
        "\n",
        "def train(model , model_name):\n",
        "    model.fit(X_train,Y_train)\n",
        "    print(\"\")\n",
        "    print(\"Training Data Results\")\n",
        "    print(f\"Training accuracy of {model_name} is {model.score(X_train,Y_train)}\")\n",
        "    # print(\"f1-score: \",f1(Y_train, model.predict(X_train).astype(float)))\n",
        "\n",
        "    train_pred = model.predict(X_train).astype(float)\n",
        "    print(\"f1-score: \",f1(Y_train, train_pred))\n",
        "    ROC_AUC = roc_auc_score(Y_train, train_pred)\n",
        "    print('ROC AUC : {:.4f}'.format(ROC_AUC))\n",
        "\n",
        "\n",
        "    print(\"\")\n",
        "\n",
        "    print(\"Testing Data Results\")\n",
        "    print(f\"Testing accuracy of {model_name} is {model.score(X_test,Y_test)}\")\n",
        "    # print(f\"Prediction of {model_name} is {model.predict(X_test)}\")\n",
        "    test_pred = model.predict(X_test).astype(float)\n",
        "    print(\"f1-score: \",f1(Y_test, test_pred))\n",
        "    ROC_AUC = roc_auc_score(Y_test, test_pred)\n",
        "    print('ROC AUC : {:.4f}'.format(ROC_AUC))\n",
        "\n",
        "def conf_matrix(model):\n",
        "    ConfusionMatrixDisplay.from_estimator(\n",
        "        model,\n",
        "        X_test,\n",
        "        Y_test,cmap=plt.cm.Blues\n",
        "    )\n",
        "def class_report(model):\n",
        "    print(classification_report(\n",
        "        Y_test,\n",
        "        model.predict(X_test)\n",
        "    ))\n",
        "\n",
        "\n",
        "\n",
        "\n"
      ],
      "metadata": {
        "id": "ulgBMmXYdKL9"
      },
      "execution_count": null,
      "outputs": []
    },
    {
      "cell_type": "code",
      "source": [
        "#Logistic Regression\n",
        "\n",
        "# Initialize the machine learning model (e.g., Logistic Regression)\n",
        "reg_model = LogisticRegression()\n",
        "\n",
        "\n",
        "# Initialize a list to store the evaluation scores\n",
        "scores = []\n",
        "\n",
        "# Iterate through each fold\n",
        "for train_indices, test_indices in fold_indices:\n",
        "    #1. Logistic Regression\n",
        "    # Train the model on the training data\n",
        "    reg_model.fit(X_train, Y_train)\n",
        "\n",
        "    # Make predictions on the test data\n",
        "    y_pred = reg_model.predict(X_test)\n",
        "\n",
        "    # Calculate the accuracy score for this fold\n",
        "    fold_score = accuracy_score(Y_test, y_pred)\n",
        "\n",
        "    # Append the fold score to the list of scores\n",
        "    scores.append(fold_score)\n",
        "\n",
        "\n",
        "# Calculate the mean accuracy across all folds\n",
        "mean_accuracy = np.mean(scores)\n",
        "print(\"K-Fold Cross-Validation Scores:\", scores)\n",
        "print(\"Mean Accuracy:\", mean_accuracy)\n",
        "\n",
        "\n",
        "\n",
        "train(reg_model, 'LogisticRegression')\n",
        "# conf_matrix(reg_model)\n",
        "disp = ConfusionMatrixDisplay.from_estimator(\n",
        "        reg_model,\n",
        "        X_test,\n",
        "        Y_test,cmap=plt.cm.Blues\n",
        "    )\n",
        "disp.ax_.set_title(\"Logistic Regression Confusion Matrix\")"
      ],
      "metadata": {
        "colab": {
          "base_uri": "https://localhost:8080/",
          "height": 792
        },
        "id": "Gc1tkreGdJGt",
        "outputId": "479fba00-fedb-41a8-cdbf-d51b58585818"
      },
      "execution_count": null,
      "outputs": [
        {
          "output_type": "stream",
          "name": "stdout",
          "text": [
            "K-Fold Cross-Validation Scores: [0.8002821758896379, 0.8002821758896379, 0.8002821758896379, 0.8002821758896379, 0.8002821758896379, 0.8002821758896379, 0.8002821758896379, 0.8002821758896379, 0.8002821758896379, 0.8002821758896379]\n",
            "Mean Accuracy: 0.8002821758896379\n",
            "\n",
            "Training Data Results\n",
            "Training accuracy of LogisticRegression is 0.8001396462295518\n",
            "precision:  tf.Tensor(0.7851772287812903, shape=(), dtype=float64)\n",
            "recall:  tf.Tensor(0.8263731879184307, shape=(), dtype=float64)\n",
            "f1-score:  tf.Tensor(0.8052486135622065, shape=(), dtype=float64)\n",
            "ROC AUC : 0.8001\n",
            "\n",
            "Testing Data Results\n",
            "Testing accuracy of LogisticRegression is 0.8002821758896379\n",
            "precision:  tf.Tensor(0.7881751165820946, shape=(), dtype=float64)\n",
            "recall:  tf.Tensor(0.8212886032164715, shape=(), dtype=float64)\n",
            "f1-score:  tf.Tensor(0.8043911675736879, shape=(), dtype=float64)\n",
            "ROC AUC : 0.8003\n"
          ]
        },
        {
          "output_type": "execute_result",
          "data": {
            "text/plain": [
              "Text(0.5, 1.0, 'Logistic Regression Confusion Matrix')"
            ]
          },
          "metadata": {},
          "execution_count": 68
        },
        {
          "output_type": "display_data",
          "data": {
            "text/plain": [
              "<Figure size 640x480 with 2 Axes>"
            ],
            "image/png": "[encoded data removed]"
          },
          "metadata": {}
        }
      ]
    },
    {
      "cell_type": "code",
      "source": [
        "import sklearn.metrics as metrics\n",
        "# calculate the fpr and tpr for all thresholds of the classification\n",
        "# probs = reg_model.predict_proba(X_test)\n",
        "preds = reg_model.predict(X_test).astype(float)\n",
        "# preds = probs[:,1]\n",
        "fpr, tpr, threshold = metrics.roc_curve(Y_test, preds)\n",
        "roc_auc = roc_auc_score(Y_test, preds)\n",
        "\n",
        "#load the pyplot tool from matplotlib library\n",
        "import matplotlib.pyplot as plt\n",
        "plt.title('Logistic Regression Receiver Operating Characteristic')\n",
        "plt.plot(fpr, tpr, 'b', label = 'AUC = %0.2f' % roc_auc)\n",
        "plt.legend(loc = 'lower right')\n",
        "plt.plot([0, 1], [0, 1],'r--')\n",
        "plt.xlim([0, 1])\n",
        "plt.ylim([0, 1])\n",
        "plt.ylabel('True Positive Rate')\n",
        "plt.xlabel('False Positive Rate')\n",
        "plt.show()"
      ],
      "metadata": {
        "colab": {
          "base_uri": "https://localhost:8080/",
          "height": 477
        },
        "id": "xoyE-4rydV8t",
        "outputId": "381ff5c0-16cb-41c2-8596-6de616559c45"
      },
      "execution_count": null,
      "outputs": [
        {
          "output_type": "display_data",
          "data": {
            "text/plain": [
              "<Figure size 640x480 with 1 Axes>"
            ],
            "image/png": "[encoded data removed]"
          },
          "metadata": {}
        }
      ]
    },
    {
      "cell_type": "code",
      "source": [
        "\n",
        "# For Naїve Bayes, kindly refer to the notebook: naive_bayes_machine_learning.ipynb\n",
        "\n"
      ],
      "metadata": {
        "id": "EC4YlqG9QleF"
      },
      "execution_count": null,
      "outputs": []
    },
    {
      "cell_type": "code",
      "source": [
        "#Random Forest Regressor\n",
        "\n",
        "from sklearn.feature_extraction.text import TfidfVectorizer\n",
        "from sklearn.pipeline import Pipeline\n",
        "from sklearn.ensemble import RandomForestClassifier, RandomForestRegressor\n",
        "\n",
        "\n",
        "clf = RandomForestRegressor(n_estimators=10000, random_state=0, n_jobs=-1)\n",
        "\n",
        "# Initialize a list to store the evaluation scores\n",
        "scores = []\n",
        "\n",
        "# Iterate through each fold\n",
        "for train_indices, test_indices in fold_indices:\n",
        "    # Train the model on the training data\n",
        "    clf.fit(X_train,np.ravel(Y_train))\n",
        "\n",
        "    # # Make predictions on the test data\n",
        "    y_pred = clf.predict(X_test)\n",
        "\n",
        "    # Calculate the accuracy score for this fold\n",
        "    fold_score = accuracy_score(Y_test, y_pred)\n",
        "\n",
        "    # Append the fold score to the list of scores\n",
        "    scores.append(fold_score)\n",
        "\n",
        "\n",
        "# Calculate the mean accuracy across all folds\n",
        "mean_accuracy = np.mean(scores)\n",
        "print(\"K-Fold Cross-Validation Scores:\", scores)\n",
        "print(\"Mean Accuracy:\", mean_accuracy)\n",
        "\n",
        "train(clf, 'RandomForestRegressor')"
      ],
      "metadata": {
        "id": "s3BEMfVPh3Dq",
        "colab": {
          "base_uri": "https://localhost:8080/"
        },
        "outputId": "414b1a89-a540-4242-de1c-c7417ed68e33"
      },
      "execution_count": null,
      "outputs": [
        {
          "output_type": "stream",
          "name": "stdout",
          "text": [
            "K-Fold Cross-Validation Scores: [1.0, 1.0, 1.0, 1.0, 1.0, 1.0, 1.0, 1.0, 1.0, 1.0]\n",
            "Mean Accuracy: 1.0\n",
            "\n",
            "Training Data Results\n",
            "Training accuracy of RandomForestRegressor is 1.0\n",
            "precision:  tf.Tensor(0.9999999999933501, shape=(), dtype=float64)\n",
            "recall:  tf.Tensor(0.9999999999933501, shape=(), dtype=float64)\n",
            "f1-score:  tf.Tensor(0.9999999499933526, shape=(), dtype=float64)\n",
            "ROC AUC : 1.0000\n",
            "\n",
            "Testing Data Results\n",
            "Testing accuracy of RandomForestRegressor is 1.0\n",
            "precision:  tf.Tensor(0.9999999999843235, shape=(), dtype=float64)\n",
            "recall:  tf.Tensor(0.9999999999843235, shape=(), dtype=float64)\n",
            "f1-score:  tf.Tensor(0.9999999499843261, shape=(), dtype=float64)\n",
            "ROC AUC : 1.0000\n"
          ]
        }
      ]
    },
    {
      "cell_type": "code",
      "source": [
        "#if you require the normalized confusion matrix. Install scikit-plot on the terminal:\n",
        "# pip install scikit-plot\n",
        "#then uncomment and run the succeeding commands:\n",
        "import scikitplot as skplt\n",
        "skplt.metrics.plot_confusion_matrix(Y_test, y_pred, normalize=False,\n",
        "                                    title='Random Forest Regressor Confusion Matrix',\n",
        "                                    cmap=plt.cm.Blues)\n",
        "plt.title('Random Forest Regressor Confusion Matrix', fontsize = 20) # title with fontsize 20\n",
        "plt.xlabel('Predicted label', fontsize = 15) # x-axis label with fontsize 15\n",
        "plt.ylabel('True label', fontsize = 15) # y-axis label with fontsize 15\n",
        "plt.show()"
      ],
      "metadata": {
        "colab": {
          "base_uri": "https://localhost:8080/",
          "height": 486
        },
        "id": "ZTKB6svK607x",
        "outputId": "a6ee1f8f-82cf-4e1f-8ade-2c8334f973e8"
      },
      "execution_count": null,
      "outputs": [
        {
          "output_type": "display_data",
          "data": {
            "text/plain": [
              "<Figure size 640x480 with 2 Axes>"
            ],
            "image/png": "[encoded data removed]"
          },
          "metadata": {}
        }
      ]
    },
    {
      "cell_type": "code",
      "source": [
        "import sklearn.metrics as metrics\n",
        "# calculate the fpr and tpr for all thresholds of the classification\n",
        "preds = clf.predict(X_test)\n",
        "fpr, tpr, threshold = metrics.roc_curve(Y_test, preds)\n",
        "roc_auc = metrics.auc(fpr, tpr)\n",
        "\n",
        "#load the pyplot tool from matplotlib library\n",
        "import matplotlib.pyplot as plt\n",
        "plt.title('Random Forest Receiver Operating Characteristic')\n",
        "plt.plot([0, 1], [0, 1],'r--')\n",
        "plt.plot(fpr, tpr, 'b', label = 'AUC = %0.2f' % roc_auc)\n",
        "plt.legend(loc = 'lower right')\n",
        "plt.ylabel('True Positive Rate')\n",
        "plt.xlabel('False Positive Rate')\n",
        "plt.show()"
      ],
      "metadata": {
        "id": "HrnzGcufEoCh",
        "colab": {
          "base_uri": "https://localhost:8080/",
          "height": 477
        },
        "outputId": "f3ce2272-1a0c-43de-aff2-087b0940431e"
      },
      "execution_count": null,
      "outputs": [
        {
          "output_type": "display_data",
          "data": {
            "text/plain": [
              "<Figure size 640x480 with 1 Axes>"
            ],
            "image/png": "[encoded data removed]"
          },
          "metadata": {}
        }
      ]
    },
    {
      "cell_type": "code",
      "source": [
        "#Decision Tree\n",
        "\n",
        "from sklearn.tree import DecisionTreeClassifier\n",
        "\n",
        "\n",
        "# Initialize the machine learning model\n",
        "classifier2 = DecisionTreeClassifier(criterion = 'entropy', random_state = 0)\n",
        "\n",
        "# Initialize a list to store the evaluation scores\n",
        "scores = []\n",
        "\n",
        "# Iterate through each fold\n",
        "for train_indices, test_indices in fold_indices:\n",
        "    # Train the model on the training data\n",
        "    classifier2.fit(X_train, Y_train)\n",
        "\n",
        "    # Make predictions on the test data\n",
        "    y_pred = classifier2.predict(X_test)\n",
        "\n",
        "    # Calculate the accuracy score for this fold\n",
        "    fold_score = accuracy_score(Y_test, y_pred)\n",
        "\n",
        "    # Append the fold score to the list of scores\n",
        "    scores.append(fold_score)\n",
        "\n",
        "\n",
        "# Calculate the mean accuracy across all folds\n",
        "mean_accuracy = np.mean(scores)\n",
        "print(\"K-Fold Cross-Validation Scores:\", scores)\n",
        "print(\"Mean Accuracy:\", mean_accuracy)\n",
        "\n",
        "train(classifier2, 'DecisionTreeClassifier')\n",
        "# conf_matrix(classifier2)\n",
        "disp = ConfusionMatrixDisplay.from_estimator(\n",
        "        classifier2,\n",
        "        X_test,\n",
        "        Y_test,cmap=plt.cm.Blues\n",
        "    )\n",
        "disp.ax_.set_title(\"Decision Tree Classifier Confusion Matrix\")\n"
      ],
      "metadata": {
        "id": "wgXaJg8LmUUH",
        "colab": {
          "base_uri": "https://localhost:8080/",
          "height": 772
        },
        "outputId": "d56a26a4-c9dd-49d6-9a36-6ade1be5104c"
      },
      "execution_count": null,
      "outputs": [
        {
          "output_type": "stream",
          "name": "stdout",
          "text": [
            "K-Fold Cross-Validation Scores: [1.0, 1.0, 1.0, 1.0, 1.0, 1.0, 1.0, 1.0, 1.0, 1.0]\n",
            "Mean Accuracy: 1.0\n",
            "\n",
            "Training Data Results\n",
            "Training accuracy of DecisionTreeClassifier is 1.0\n",
            "precision:  tf.Tensor(0.9999999999933501, shape=(), dtype=float64)\n",
            "recall:  tf.Tensor(0.9999999999933501, shape=(), dtype=float64)\n",
            "f1-score:  tf.Tensor(0.9999999499933526, shape=(), dtype=float64)\n",
            "ROC AUC : 1.0000\n",
            "\n",
            "Testing Data Results\n",
            "Testing accuracy of DecisionTreeClassifier is 1.0\n",
            "precision:  tf.Tensor(0.9999999999843235, shape=(), dtype=float64)\n",
            "recall:  tf.Tensor(0.9999999999843235, shape=(), dtype=float64)\n",
            "f1-score:  tf.Tensor(0.9999999499843261, shape=(), dtype=float64)\n",
            "ROC AUC : 1.0000\n"
          ]
        },
        {
          "output_type": "execute_result",
          "data": {
            "text/plain": [
              "Text(0.5, 1.0, 'Decision Tree Classifier Confusion Matrix')"
            ]
          },
          "metadata": {},
          "execution_count": 66
        },
        {
          "output_type": "display_data",
          "data": {
            "text/plain": [
              "<Figure size 640x480 with 2 Axes>"
            ],
            "image/png": "[encoded data removed]"
          },
          "metadata": {}
        }
      ]
    },
    {
      "cell_type": "code",
      "source": [
        "import sklearn.metrics as metrics\n",
        "# calculate the fpr and tpr for all thresholds of the classification\n",
        "preds = classifier2.predict(X_test)\n",
        "fpr, tpr, threshold = metrics.roc_curve(Y_test, preds)\n",
        "roc_auc = metrics.auc(fpr, tpr)\n",
        "\n",
        "#load the pyplot tool from matplotlib library\n",
        "import matplotlib.pyplot as plt\n",
        "plt.title('Decision Tree Classifier Receiver Operating Characteristic')\n",
        "plt.plot([0, 1], [0, 1],'r--')\n",
        "plt.plot(fpr, tpr, 'b', label = 'AUC = %0.2f' % roc_auc)\n",
        "plt.legend(loc = 'lower right')\n",
        "plt.ylabel('True Positive Rate')\n",
        "plt.xlabel('False Positive Rate')\n",
        "plt.show()"
      ],
      "metadata": {
        "colab": {
          "base_uri": "https://localhost:8080/",
          "height": 477
        },
        "id": "LKQAYwe45I87",
        "outputId": "db97e5d5-c9e3-4d3f-9d1f-dcda885ffee5"
      },
      "execution_count": null,
      "outputs": [
        {
          "output_type": "display_data",
          "data": {
            "text/plain": [
              "<Figure size 640x480 with 1 Axes>"
            ],
            "image/png": "[encoded data removed]"
          },
          "metadata": {}
        }
      ]
    }
  ]
}